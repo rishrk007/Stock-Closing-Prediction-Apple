{
  "nbformat": 4,
  "nbformat_minor": 0,
  "metadata": {
    "colab": {
      "name": "Stock Closing Prediction",
      "provenance": [],
      "authorship_tag": "ABX9TyNr9xEeuB1VEOr1cA1BWypj",
      "include_colab_link": true
    },
    "kernelspec": {
      "name": "python3",
      "display_name": "Python 3"
    }
  },
  "cells": [
    {
      "cell_type": "markdown",
      "metadata": {
        "id": "view-in-github",
        "colab_type": "text"
      },
      "source": [
        "<a href=\"https://colab.research.google.com/github/rishrk007/Stock-Closing-Prediction-Apple/blob/main/Stock_Closing_Prediction.ipynb\" target=\"_parent\"><img src=\"https://colab.research.google.com/assets/colab-badge.svg\" alt=\"Open In Colab\"/></a>"
      ]
    },
    {
      "cell_type": "code",
      "metadata": {
        "id": "zVOsrS_l_QUN"
      },
      "source": [
        "import pandas_datareader as pdr\r\n",
        "import pandas as pd\r\n",
        "import numpy as np\r\n",
        "import matplotlib.pyplot as plt"
      ],
      "execution_count": 8,
      "outputs": []
    },
    {
      "cell_type": "code",
      "metadata": {
        "id": "CLuBp_gqfh1f"
      },
      "source": [
        "key = \"Get your API Key from Tiingo by Login/SignUP \""
      ],
      "execution_count": null,
      "outputs": []
    },
    {
      "cell_type": "code",
      "metadata": {
        "id": "qNrzHQ5w_Up5"
      },
      "source": [
        "df = pdr.get_data_tiingo('AAPL', api_key=key)\r\n",
        "df.to_csv('aapl.csv')"
      ],
      "execution_count": 5,
      "outputs": []
    },
    {
      "cell_type": "code",
      "metadata": {
        "id": "iZ36X70cDW4b"
      },
      "source": [
        "df = pd.read_csv(\"aapl.csv\")"
      ],
      "execution_count": 10,
      "outputs": []
    },
    {
      "cell_type": "code",
      "metadata": {
        "colab": {
          "base_uri": "https://localhost:8080/",
          "height": 195
        },
        "id": "hPe64oCxDnYz",
        "outputId": "99133f6d-d307-4bd3-cc3b-66bc8a47a4ba"
      },
      "source": [
        "df.head(5)"
      ],
      "execution_count": 11,
      "outputs": [
        {
          "output_type": "execute_result",
          "data": {
            "text/html": [
              "<div>\n",
              "<style scoped>\n",
              "    .dataframe tbody tr th:only-of-type {\n",
              "        vertical-align: middle;\n",
              "    }\n",
              "\n",
              "    .dataframe tbody tr th {\n",
              "        vertical-align: top;\n",
              "    }\n",
              "\n",
              "    .dataframe thead th {\n",
              "        text-align: right;\n",
              "    }\n",
              "</style>\n",
              "<table border=\"1\" class=\"dataframe\">\n",
              "  <thead>\n",
              "    <tr style=\"text-align: right;\">\n",
              "      <th></th>\n",
              "      <th>symbol</th>\n",
              "      <th>date</th>\n",
              "      <th>close</th>\n",
              "      <th>high</th>\n",
              "      <th>low</th>\n",
              "      <th>open</th>\n",
              "      <th>volume</th>\n",
              "      <th>adjClose</th>\n",
              "      <th>adjHigh</th>\n",
              "      <th>adjLow</th>\n",
              "      <th>adjOpen</th>\n",
              "      <th>adjVolume</th>\n",
              "      <th>divCash</th>\n",
              "      <th>splitFactor</th>\n",
              "    </tr>\n",
              "  </thead>\n",
              "  <tbody>\n",
              "    <tr>\n",
              "      <th>0</th>\n",
              "      <td>AAPL</td>\n",
              "      <td>2016-01-29 00:00:00+00:00</td>\n",
              "      <td>97.34</td>\n",
              "      <td>97.34</td>\n",
              "      <td>94.35</td>\n",
              "      <td>94.79</td>\n",
              "      <td>64416504</td>\n",
              "      <td>22.542833</td>\n",
              "      <td>22.542833</td>\n",
              "      <td>21.850383</td>\n",
              "      <td>21.952282</td>\n",
              "      <td>257666016</td>\n",
              "      <td>0.00</td>\n",
              "      <td>1.0</td>\n",
              "    </tr>\n",
              "    <tr>\n",
              "      <th>1</th>\n",
              "      <td>AAPL</td>\n",
              "      <td>2016-02-01 00:00:00+00:00</td>\n",
              "      <td>96.43</td>\n",
              "      <td>96.71</td>\n",
              "      <td>95.40</td>\n",
              "      <td>96.47</td>\n",
              "      <td>40943541</td>\n",
              "      <td>22.332087</td>\n",
              "      <td>22.396932</td>\n",
              "      <td>22.093551</td>\n",
              "      <td>22.341350</td>\n",
              "      <td>163774164</td>\n",
              "      <td>0.00</td>\n",
              "      <td>1.0</td>\n",
              "    </tr>\n",
              "    <tr>\n",
              "      <th>2</th>\n",
              "      <td>AAPL</td>\n",
              "      <td>2016-02-02 00:00:00+00:00</td>\n",
              "      <td>94.48</td>\n",
              "      <td>96.04</td>\n",
              "      <td>94.28</td>\n",
              "      <td>95.42</td>\n",
              "      <td>37357215</td>\n",
              "      <td>21.880489</td>\n",
              "      <td>22.241767</td>\n",
              "      <td>21.834171</td>\n",
              "      <td>22.098182</td>\n",
              "      <td>149428860</td>\n",
              "      <td>0.00</td>\n",
              "      <td>1.0</td>\n",
              "    </tr>\n",
              "    <tr>\n",
              "      <th>3</th>\n",
              "      <td>AAPL</td>\n",
              "      <td>2016-02-03 00:00:00+00:00</td>\n",
              "      <td>96.35</td>\n",
              "      <td>96.84</td>\n",
              "      <td>94.08</td>\n",
              "      <td>95.00</td>\n",
              "      <td>45964294</td>\n",
              "      <td>22.313560</td>\n",
              "      <td>22.427038</td>\n",
              "      <td>21.787854</td>\n",
              "      <td>22.000915</td>\n",
              "      <td>183857176</td>\n",
              "      <td>0.00</td>\n",
              "      <td>1.0</td>\n",
              "    </tr>\n",
              "    <tr>\n",
              "      <th>4</th>\n",
              "      <td>AAPL</td>\n",
              "      <td>2016-02-04 00:00:00+00:00</td>\n",
              "      <td>96.60</td>\n",
              "      <td>97.33</td>\n",
              "      <td>95.19</td>\n",
              "      <td>95.86</td>\n",
              "      <td>46471652</td>\n",
              "      <td>22.491883</td>\n",
              "      <td>22.661853</td>\n",
              "      <td>22.163585</td>\n",
              "      <td>22.319585</td>\n",
              "      <td>185886608</td>\n",
              "      <td>0.52</td>\n",
              "      <td>1.0</td>\n",
              "    </tr>\n",
              "  </tbody>\n",
              "</table>\n",
              "</div>"
            ],
            "text/plain": [
              "  symbol                       date  close  ...  adjVolume  divCash  splitFactor\n",
              "0   AAPL  2016-01-29 00:00:00+00:00  97.34  ...  257666016     0.00          1.0\n",
              "1   AAPL  2016-02-01 00:00:00+00:00  96.43  ...  163774164     0.00          1.0\n",
              "2   AAPL  2016-02-02 00:00:00+00:00  94.48  ...  149428860     0.00          1.0\n",
              "3   AAPL  2016-02-03 00:00:00+00:00  96.35  ...  183857176     0.00          1.0\n",
              "4   AAPL  2016-02-04 00:00:00+00:00  96.60  ...  185886608     0.52          1.0\n",
              "\n",
              "[5 rows x 14 columns]"
            ]
          },
          "metadata": {
            "tags": []
          },
          "execution_count": 11
        }
      ]
    },
    {
      "cell_type": "code",
      "metadata": {
        "colab": {
          "base_uri": "https://localhost:8080/",
          "height": 195
        },
        "id": "68M3wVJlDqgj",
        "outputId": "e2a65341-f7cc-4776-f658-b3e369d675e2"
      },
      "source": [
        "df.tail()"
      ],
      "execution_count": 12,
      "outputs": [
        {
          "output_type": "execute_result",
          "data": {
            "text/html": [
              "<div>\n",
              "<style scoped>\n",
              "    .dataframe tbody tr th:only-of-type {\n",
              "        vertical-align: middle;\n",
              "    }\n",
              "\n",
              "    .dataframe tbody tr th {\n",
              "        vertical-align: top;\n",
              "    }\n",
              "\n",
              "    .dataframe thead th {\n",
              "        text-align: right;\n",
              "    }\n",
              "</style>\n",
              "<table border=\"1\" class=\"dataframe\">\n",
              "  <thead>\n",
              "    <tr style=\"text-align: right;\">\n",
              "      <th></th>\n",
              "      <th>symbol</th>\n",
              "      <th>date</th>\n",
              "      <th>close</th>\n",
              "      <th>high</th>\n",
              "      <th>low</th>\n",
              "      <th>open</th>\n",
              "      <th>volume</th>\n",
              "      <th>adjClose</th>\n",
              "      <th>adjHigh</th>\n",
              "      <th>adjLow</th>\n",
              "      <th>adjOpen</th>\n",
              "      <th>adjVolume</th>\n",
              "      <th>divCash</th>\n",
              "      <th>splitFactor</th>\n",
              "    </tr>\n",
              "  </thead>\n",
              "  <tbody>\n",
              "    <tr>\n",
              "      <th>1252</th>\n",
              "      <td>AAPL</td>\n",
              "      <td>2021-01-20 00:00:00+00:00</td>\n",
              "      <td>132.03</td>\n",
              "      <td>132.49</td>\n",
              "      <td>128.55</td>\n",
              "      <td>128.66</td>\n",
              "      <td>104319489</td>\n",
              "      <td>132.03</td>\n",
              "      <td>132.49</td>\n",
              "      <td>128.55</td>\n",
              "      <td>128.66</td>\n",
              "      <td>104319489</td>\n",
              "      <td>0.0</td>\n",
              "      <td>1.0</td>\n",
              "    </tr>\n",
              "    <tr>\n",
              "      <th>1253</th>\n",
              "      <td>AAPL</td>\n",
              "      <td>2021-01-21 00:00:00+00:00</td>\n",
              "      <td>136.87</td>\n",
              "      <td>139.67</td>\n",
              "      <td>133.59</td>\n",
              "      <td>133.80</td>\n",
              "      <td>120529544</td>\n",
              "      <td>136.87</td>\n",
              "      <td>139.67</td>\n",
              "      <td>133.59</td>\n",
              "      <td>133.80</td>\n",
              "      <td>120529544</td>\n",
              "      <td>0.0</td>\n",
              "      <td>1.0</td>\n",
              "    </tr>\n",
              "    <tr>\n",
              "      <th>1254</th>\n",
              "      <td>AAPL</td>\n",
              "      <td>2021-01-22 00:00:00+00:00</td>\n",
              "      <td>139.07</td>\n",
              "      <td>139.85</td>\n",
              "      <td>135.02</td>\n",
              "      <td>136.28</td>\n",
              "      <td>114459360</td>\n",
              "      <td>139.07</td>\n",
              "      <td>139.85</td>\n",
              "      <td>135.02</td>\n",
              "      <td>136.28</td>\n",
              "      <td>114459360</td>\n",
              "      <td>0.0</td>\n",
              "      <td>1.0</td>\n",
              "    </tr>\n",
              "    <tr>\n",
              "      <th>1255</th>\n",
              "      <td>AAPL</td>\n",
              "      <td>2021-01-25 00:00:00+00:00</td>\n",
              "      <td>142.92</td>\n",
              "      <td>145.09</td>\n",
              "      <td>136.54</td>\n",
              "      <td>143.07</td>\n",
              "      <td>157611713</td>\n",
              "      <td>142.92</td>\n",
              "      <td>145.09</td>\n",
              "      <td>136.54</td>\n",
              "      <td>143.07</td>\n",
              "      <td>157611713</td>\n",
              "      <td>0.0</td>\n",
              "      <td>1.0</td>\n",
              "    </tr>\n",
              "    <tr>\n",
              "      <th>1256</th>\n",
              "      <td>AAPL</td>\n",
              "      <td>2021-01-26 00:00:00+00:00</td>\n",
              "      <td>143.16</td>\n",
              "      <td>144.30</td>\n",
              "      <td>141.37</td>\n",
              "      <td>143.60</td>\n",
              "      <td>98390555</td>\n",
              "      <td>143.16</td>\n",
              "      <td>144.30</td>\n",
              "      <td>141.37</td>\n",
              "      <td>143.60</td>\n",
              "      <td>98390555</td>\n",
              "      <td>0.0</td>\n",
              "      <td>1.0</td>\n",
              "    </tr>\n",
              "  </tbody>\n",
              "</table>\n",
              "</div>"
            ],
            "text/plain": [
              "     symbol                       date   close  ...  adjVolume  divCash  splitFactor\n",
              "1252   AAPL  2021-01-20 00:00:00+00:00  132.03  ...  104319489      0.0          1.0\n",
              "1253   AAPL  2021-01-21 00:00:00+00:00  136.87  ...  120529544      0.0          1.0\n",
              "1254   AAPL  2021-01-22 00:00:00+00:00  139.07  ...  114459360      0.0          1.0\n",
              "1255   AAPL  2021-01-25 00:00:00+00:00  142.92  ...  157611713      0.0          1.0\n",
              "1256   AAPL  2021-01-26 00:00:00+00:00  143.16  ...   98390555      0.0          1.0\n",
              "\n",
              "[5 rows x 14 columns]"
            ]
          },
          "metadata": {
            "tags": []
          },
          "execution_count": 12
        }
      ]
    },
    {
      "cell_type": "code",
      "metadata": {
        "colab": {
          "base_uri": "https://localhost:8080/"
        },
        "id": "u5qWUYdyDwGe",
        "outputId": "9141a14d-f42a-4c20-ff08-03514a4e2aa0"
      },
      "source": [
        "df1 = df.reset_index()['close']\r\n",
        "df1.shape"
      ],
      "execution_count": 17,
      "outputs": [
        {
          "output_type": "execute_result",
          "data": {
            "text/plain": [
              "(1257,)"
            ]
          },
          "metadata": {
            "tags": []
          },
          "execution_count": 17
        }
      ]
    },
    {
      "cell_type": "code",
      "metadata": {
        "colab": {
          "base_uri": "https://localhost:8080/",
          "height": 282
        },
        "id": "TzMtS1jGEk7X",
        "outputId": "eb88649b-9a7c-46e0-bfb5-24bb45f7276b"
      },
      "source": [
        "plt.plot(df1)"
      ],
      "execution_count": 18,
      "outputs": [
        {
          "output_type": "execute_result",
          "data": {
            "text/plain": [
              "[<matplotlib.lines.Line2D at 0x7f49e119be10>]"
            ]
          },
          "metadata": {
            "tags": []
          },
          "execution_count": 18
        },
        {
          "output_type": "display_data",
          "data": {
            "image/png": "[encoded data removed]",
            "text/plain": [
              "<Figure size 432x288 with 1 Axes>"
            ]
          },
          "metadata": {
            "tags": [],
            "needs_background": "light"
          }
        }
      ]
    },
    {
      "cell_type": "code",
      "metadata": {
        "id": "eYRGy5aUE1ac"
      },
      "source": [
        "from sklearn.preprocessing import MinMaxScaler\r\n",
        "scaler = MinMaxScaler(feature_range=(0,1))\r\n",
        "\r\n",
        "df1 = scaler.fit_transform(np.array(df1).reshape(-1,1))"
      ],
      "execution_count": 19,
      "outputs": []
    },
    {
      "cell_type": "code",
      "metadata": {
        "colab": {
          "base_uri": "https://localhost:8080/"
        },
        "id": "lHKxPfcFFxNy",
        "outputId": "b92d393a-e39d-4b96-a0c9-c9b97974e994"
      },
      "source": [
        "df1.shape"
      ],
      "execution_count": 22,
      "outputs": [
        {
          "output_type": "execute_result",
          "data": {
            "text/plain": [
              "(1257, 1)"
            ]
          },
          "metadata": {
            "tags": []
          },
          "execution_count": 22
        }
      ]
    },
    {
      "cell_type": "code",
      "metadata": {
        "id": "D6e4xP4BF2Kb"
      },
      "source": [
        "# Splitting Data for Training and Testing\r\n",
        "training_size = int(len(df1)*0.65)\r\n",
        "testing_size = len(df1)-training_size\r\n",
        "\r\n",
        "train , test = df1[0:training_size,:] , df1[training_size:len(df1),:]"
      ],
      "execution_count": 23,
      "outputs": []
    },
    {
      "cell_type": "code",
      "metadata": {
        "colab": {
          "base_uri": "https://localhost:8080/"
        },
        "id": "zoVegbzaGYEG",
        "outputId": "c42574cc-6aa3-4093-b0d8-3201cbfce150"
      },
      "source": [
        "print(train.shape , test.shape)"
      ],
      "execution_count": 24,
      "outputs": [
        {
          "output_type": "stream",
          "text": [
            "(817, 1) (440, 1)\n"
          ],
          "name": "stdout"
        }
      ]
    },
    {
      "cell_type": "code",
      "metadata": {
        "id": "TUaQ3FlBHDWY"
      },
      "source": [
        "# Creating array of values into dataset matrix\r\n",
        "def create_dataset(dataset,time_step=1):\r\n",
        "  dataX , dataY = [] , []\r\n",
        "  for i in range(len(dataset)-time_step-1):\r\n",
        "    data = dataset[i:(time_step+i),0]\r\n",
        "    dataX.append(data)\r\n",
        "    dataY.append(dataset[time_step+i,0])\r\n",
        "  return (np.array(dataX),np.array(dataY))"
      ],
      "execution_count": 34,
      "outputs": []
    },
    {
      "cell_type": "code",
      "metadata": {
        "id": "mKvGn3X7K6tN"
      },
      "source": [
        "time_step = 100\r\n",
        "x_train , y_train = create_dataset(train,time_step)\r\n",
        "x_test , y_test = create_dataset(test,time_step)\r\n"
      ],
      "execution_count": 35,
      "outputs": []
    },
    {
      "cell_type": "code",
      "metadata": {
        "colab": {
          "base_uri": "https://localhost:8080/"
        },
        "id": "0pTNGH4oMIP8",
        "outputId": "f584aba0-149c-4447-dda4-f8ff34c96940"
      },
      "source": [
        "print(x_train.shape,y_train.shape)\r\n",
        "print(x_test.shape,y_test.shape)"
      ],
      "execution_count": 38,
      "outputs": [
        {
          "output_type": "stream",
          "text": [
            "(716, 100) (716,)\n",
            "(339, 100) (339,)\n"
          ],
          "name": "stdout"
        }
      ]
    },
    {
      "cell_type": "code",
      "metadata": {
        "id": "idmP2lc5LQPz"
      },
      "source": [
        "# For Lstm 3-D data is required\r\n",
        "x_train = x_train.reshape(x_train.shape[0],x_train.shape[1],1)\r\n",
        "x_test = x_test.reshape(x_test.shape[0],x_test.shape[1],1)"
      ],
      "execution_count": 40,
      "outputs": []
    },
    {
      "cell_type": "code",
      "metadata": {
        "id": "km9Gom-4MtMZ"
      },
      "source": [
        "from keras.models import Sequential\r\n",
        "from keras.layers import Dense, LSTM"
      ],
      "execution_count": 42,
      "outputs": []
    },
    {
      "cell_type": "code",
      "metadata": {
        "id": "QaPbWmMJNYMY"
      },
      "source": [
        "# Lstm Model\r\n",
        "model = Sequential()\r\n",
        "model.add(LSTM(50, return_sequences=True, input_shape=(100,1)))\r\n",
        "model.add(LSTM(50, return_sequences=True))\r\n",
        "model.add(LSTM(50))\r\n",
        "model.add(Dense(1))\r\n",
        "model.compile(loss='mean_squared_error', optimizer='adam')"
      ],
      "execution_count": 44,
      "outputs": []
    },
    {
      "cell_type": "code",
      "metadata": {
        "colab": {
          "base_uri": "https://localhost:8080/"
        },
        "id": "H2PIT55BOKJ4",
        "outputId": "684f292e-b6b6-41c7-b2b3-afc41aa286a4"
      },
      "source": [
        "model.summary()"
      ],
      "execution_count": 45,
      "outputs": [
        {
          "output_type": "stream",
          "text": [
            "Model: \"sequential\"\n",
            "_________________________________________________________________\n",
            "Layer (type)                 Output Shape              Param #   \n",
            "=================================================================\n",
            "lstm (LSTM)                  (None, 100, 50)           10400     \n",
            "_________________________________________________________________\n",
            "lstm_1 (LSTM)                (None, 100, 50)           20200     \n",
            "_________________________________________________________________\n",
            "lstm_2 (LSTM)                (None, 50)                20200     \n",
            "_________________________________________________________________\n",
            "dense (Dense)                (None, 1)                 51        \n",
            "=================================================================\n",
            "Total params: 50,851\n",
            "Trainable params: 50,851\n",
            "Non-trainable params: 0\n",
            "_________________________________________________________________\n"
          ],
          "name": "stdout"
        }
      ]
    },
    {
      "cell_type": "code",
      "metadata": {
        "colab": {
          "base_uri": "https://localhost:8080/"
        },
        "id": "0UNWjbtKONub",
        "outputId": "05d5192c-6b76-43a0-f7ca-8d832f66ef3a"
      },
      "source": [
        "model.fit(x_train, y_train, validation_data=(x_test,y_test), epochs=100, batch_size=64, verbose=1)"
      ],
      "execution_count": 46,
      "outputs": [
        {
          "output_type": "stream",
          "text": [
            "Epoch 1/100\n",
            "12/12 [==============================] - 8s 297ms/step - loss: 0.0186 - val_loss: 0.0417\n",
            "Epoch 2/100\n",
            "12/12 [==============================] - 2s 194ms/step - loss: 0.0025 - val_loss: 0.0202\n",
            "Epoch 3/100\n",
            "12/12 [==============================] - 2s 196ms/step - loss: 0.0012 - val_loss: 0.0189\n",
            "Epoch 4/100\n",
            "12/12 [==============================] - 2s 194ms/step - loss: 4.6063e-04 - val_loss: 0.0192\n",
            "Epoch 5/100\n",
            "12/12 [==============================] - 2s 209ms/step - loss: 3.8378e-04 - val_loss: 0.0178\n",
            "Epoch 6/100\n",
            "12/12 [==============================] - 2s 206ms/step - loss: 3.0751e-04 - val_loss: 0.0174\n",
            "Epoch 7/100\n",
            "12/12 [==============================] - 2s 200ms/step - loss: 2.8459e-04 - val_loss: 0.0170\n",
            "Epoch 8/100\n",
            "12/12 [==============================] - 2s 194ms/step - loss: 3.0901e-04 - val_loss: 0.0165\n",
            "Epoch 9/100\n",
            "12/12 [==============================] - 2s 196ms/step - loss: 2.9430e-04 - val_loss: 0.0159\n",
            "Epoch 10/100\n",
            "12/12 [==============================] - 2s 194ms/step - loss: 2.5350e-04 - val_loss: 0.0153\n",
            "Epoch 11/100\n",
            "12/12 [==============================] - 2s 195ms/step - loss: 2.4617e-04 - val_loss: 0.0147\n",
            "Epoch 12/100\n",
            "12/12 [==============================] - 2s 191ms/step - loss: 2.3827e-04 - val_loss: 0.0142\n",
            "Epoch 13/100\n",
            "12/12 [==============================] - 2s 192ms/step - loss: 2.4147e-04 - val_loss: 0.0135\n",
            "Epoch 14/100\n",
            "12/12 [==============================] - 2s 192ms/step - loss: 2.1754e-04 - val_loss: 0.0142\n",
            "Epoch 15/100\n",
            "12/12 [==============================] - 2s 194ms/step - loss: 2.2664e-04 - val_loss: 0.0135\n",
            "Epoch 16/100\n",
            "12/12 [==============================] - 2s 192ms/step - loss: 2.0281e-04 - val_loss: 0.0143\n",
            "Epoch 17/100\n",
            "12/12 [==============================] - 2s 190ms/step - loss: 1.8616e-04 - val_loss: 0.0174\n",
            "Epoch 18/100\n",
            "12/12 [==============================] - 2s 191ms/step - loss: 1.9559e-04 - val_loss: 0.0155\n",
            "Epoch 19/100\n",
            "12/12 [==============================] - 2s 192ms/step - loss: 1.7170e-04 - val_loss: 0.0144\n",
            "Epoch 20/100\n",
            "12/12 [==============================] - 2s 189ms/step - loss: 1.7555e-04 - val_loss: 0.0155\n",
            "Epoch 21/100\n",
            "12/12 [==============================] - 2s 190ms/step - loss: 1.8341e-04 - val_loss: 0.0147\n",
            "Epoch 22/100\n",
            "12/12 [==============================] - 2s 204ms/step - loss: 1.6997e-04 - val_loss: 0.0156\n",
            "Epoch 23/100\n",
            "12/12 [==============================] - 2s 191ms/step - loss: 1.7883e-04 - val_loss: 0.0157\n",
            "Epoch 24/100\n",
            "12/12 [==============================] - 2s 193ms/step - loss: 1.7693e-04 - val_loss: 0.0143\n",
            "Epoch 25/100\n",
            "12/12 [==============================] - 2s 197ms/step - loss: 1.7102e-04 - val_loss: 0.0181\n",
            "Epoch 26/100\n",
            "12/12 [==============================] - 2s 196ms/step - loss: 1.6838e-04 - val_loss: 0.0144\n",
            "Epoch 27/100\n",
            "12/12 [==============================] - 2s 198ms/step - loss: 1.7630e-04 - val_loss: 0.0195\n",
            "Epoch 28/100\n",
            "12/12 [==============================] - 2s 197ms/step - loss: 1.8215e-04 - val_loss: 0.0146\n",
            "Epoch 29/100\n",
            "12/12 [==============================] - 2s 198ms/step - loss: 1.8947e-04 - val_loss: 0.0150\n",
            "Epoch 30/100\n",
            "12/12 [==============================] - 2s 196ms/step - loss: 1.6928e-04 - val_loss: 0.0167\n",
            "Epoch 31/100\n",
            "12/12 [==============================] - 2s 194ms/step - loss: 1.7106e-04 - val_loss: 0.0203\n",
            "Epoch 32/100\n",
            "12/12 [==============================] - 2s 198ms/step - loss: 1.7976e-04 - val_loss: 0.0158\n",
            "Epoch 33/100\n",
            "12/12 [==============================] - 2s 197ms/step - loss: 1.5705e-04 - val_loss: 0.0165\n",
            "Epoch 34/100\n",
            "12/12 [==============================] - 2s 196ms/step - loss: 1.6471e-04 - val_loss: 0.0190\n",
            "Epoch 35/100\n",
            "12/12 [==============================] - 2s 194ms/step - loss: 1.7336e-04 - val_loss: 0.0183\n",
            "Epoch 36/100\n",
            "12/12 [==============================] - 2s 200ms/step - loss: 1.5494e-04 - val_loss: 0.0183\n",
            "Epoch 37/100\n",
            "12/12 [==============================] - 2s 196ms/step - loss: 1.4975e-04 - val_loss: 0.0202\n",
            "Epoch 38/100\n",
            "12/12 [==============================] - 2s 195ms/step - loss: 1.7487e-04 - val_loss: 0.0176\n",
            "Epoch 39/100\n",
            "12/12 [==============================] - 2s 197ms/step - loss: 1.5640e-04 - val_loss: 0.0166\n",
            "Epoch 40/100\n",
            "12/12 [==============================] - 2s 197ms/step - loss: 1.5468e-04 - val_loss: 0.0207\n",
            "Epoch 41/100\n",
            "12/12 [==============================] - 2s 198ms/step - loss: 1.8677e-04 - val_loss: 0.0189\n",
            "Epoch 42/100\n",
            "12/12 [==============================] - 2s 196ms/step - loss: 1.6397e-04 - val_loss: 0.0178\n",
            "Epoch 43/100\n",
            "12/12 [==============================] - 2s 197ms/step - loss: 1.5408e-04 - val_loss: 0.0220\n",
            "Epoch 44/100\n",
            "12/12 [==============================] - 2s 196ms/step - loss: 1.6474e-04 - val_loss: 0.0176\n",
            "Epoch 45/100\n",
            "12/12 [==============================] - 2s 202ms/step - loss: 1.5541e-04 - val_loss: 0.0190\n",
            "Epoch 46/100\n",
            "12/12 [==============================] - 2s 198ms/step - loss: 1.5054e-04 - val_loss: 0.0189\n",
            "Epoch 47/100\n",
            "12/12 [==============================] - 2s 199ms/step - loss: 1.2770e-04 - val_loss: 0.0161\n",
            "Epoch 48/100\n",
            "12/12 [==============================] - 2s 197ms/step - loss: 1.8035e-04 - val_loss: 0.0213\n",
            "Epoch 49/100\n",
            "12/12 [==============================] - 2s 195ms/step - loss: 1.5133e-04 - val_loss: 0.0178\n",
            "Epoch 50/100\n",
            "12/12 [==============================] - 2s 194ms/step - loss: 1.4716e-04 - val_loss: 0.0168\n",
            "Epoch 51/100\n",
            "12/12 [==============================] - 2s 194ms/step - loss: 1.4772e-04 - val_loss: 0.0189\n",
            "Epoch 52/100\n",
            "12/12 [==============================] - 2s 196ms/step - loss: 1.3963e-04 - val_loss: 0.0210\n",
            "Epoch 53/100\n",
            "12/12 [==============================] - 2s 198ms/step - loss: 1.3814e-04 - val_loss: 0.0172\n",
            "Epoch 54/100\n",
            "12/12 [==============================] - 2s 197ms/step - loss: 1.2807e-04 - val_loss: 0.0172\n",
            "Epoch 55/100\n",
            "12/12 [==============================] - 2s 199ms/step - loss: 1.4538e-04 - val_loss: 0.0164\n",
            "Epoch 56/100\n",
            "12/12 [==============================] - 2s 200ms/step - loss: 1.3969e-04 - val_loss: 0.0194\n",
            "Epoch 57/100\n",
            "12/12 [==============================] - 2s 201ms/step - loss: 1.3929e-04 - val_loss: 0.0164\n",
            "Epoch 58/100\n",
            "12/12 [==============================] - 2s 199ms/step - loss: 1.3479e-04 - val_loss: 0.0213\n",
            "Epoch 59/100\n",
            "12/12 [==============================] - 2s 199ms/step - loss: 1.7598e-04 - val_loss: 0.0219\n",
            "Epoch 60/100\n",
            "12/12 [==============================] - 2s 197ms/step - loss: 1.7979e-04 - val_loss: 0.0214\n",
            "Epoch 61/100\n",
            "12/12 [==============================] - 2s 198ms/step - loss: 1.4893e-04 - val_loss: 0.0178\n",
            "Epoch 62/100\n",
            "12/12 [==============================] - 2s 197ms/step - loss: 1.5267e-04 - val_loss: 0.0222\n",
            "Epoch 63/100\n",
            "12/12 [==============================] - 2s 197ms/step - loss: 1.7545e-04 - val_loss: 0.0162\n",
            "Epoch 64/100\n",
            "12/12 [==============================] - 2s 195ms/step - loss: 1.3668e-04 - val_loss: 0.0219\n",
            "Epoch 65/100\n",
            "12/12 [==============================] - 2s 197ms/step - loss: 1.4236e-04 - val_loss: 0.0187\n",
            "Epoch 66/100\n",
            "12/12 [==============================] - 2s 198ms/step - loss: 1.2468e-04 - val_loss: 0.0171\n",
            "Epoch 67/100\n",
            "12/12 [==============================] - 2s 201ms/step - loss: 1.3852e-04 - val_loss: 0.0158\n",
            "Epoch 68/100\n",
            "12/12 [==============================] - 2s 199ms/step - loss: 1.4799e-04 - val_loss: 0.0169\n",
            "Epoch 69/100\n",
            "12/12 [==============================] - 2s 202ms/step - loss: 1.4162e-04 - val_loss: 0.0166\n",
            "Epoch 70/100\n",
            "12/12 [==============================] - 2s 202ms/step - loss: 1.2242e-04 - val_loss: 0.0167\n",
            "Epoch 71/100\n",
            "12/12 [==============================] - 2s 203ms/step - loss: 1.2690e-04 - val_loss: 0.0164\n",
            "Epoch 72/100\n",
            "12/12 [==============================] - 2s 204ms/step - loss: 1.2267e-04 - val_loss: 0.0160\n",
            "Epoch 73/100\n",
            "12/12 [==============================] - 2s 199ms/step - loss: 1.1884e-04 - val_loss: 0.0128\n",
            "Epoch 74/100\n",
            "12/12 [==============================] - 2s 202ms/step - loss: 1.3374e-04 - val_loss: 0.0209\n",
            "Epoch 75/100\n",
            "12/12 [==============================] - 2s 201ms/step - loss: 1.6345e-04 - val_loss: 0.0147\n",
            "Epoch 76/100\n",
            "12/12 [==============================] - 2s 201ms/step - loss: 1.4198e-04 - val_loss: 0.0165\n",
            "Epoch 77/100\n",
            "12/12 [==============================] - 2s 201ms/step - loss: 1.1253e-04 - val_loss: 0.0160\n",
            "Epoch 78/100\n",
            "12/12 [==============================] - 2s 205ms/step - loss: 1.0678e-04 - val_loss: 0.0180\n",
            "Epoch 79/100\n",
            "12/12 [==============================] - 2s 205ms/step - loss: 1.1206e-04 - val_loss: 0.0137\n",
            "Epoch 80/100\n",
            "12/12 [==============================] - 2s 205ms/step - loss: 1.1260e-04 - val_loss: 0.0134\n",
            "Epoch 81/100\n",
            "12/12 [==============================] - 2s 203ms/step - loss: 1.0630e-04 - val_loss: 0.0122\n",
            "Epoch 82/100\n",
            "12/12 [==============================] - 2s 204ms/step - loss: 1.2404e-04 - val_loss: 0.0151\n",
            "Epoch 83/100\n",
            "12/12 [==============================] - 2s 202ms/step - loss: 1.1393e-04 - val_loss: 0.0158\n",
            "Epoch 84/100\n",
            "12/12 [==============================] - 2s 203ms/step - loss: 1.2367e-04 - val_loss: 0.0136\n",
            "Epoch 85/100\n",
            "12/12 [==============================] - 2s 204ms/step - loss: 1.0315e-04 - val_loss: 0.0155\n",
            "Epoch 86/100\n",
            "12/12 [==============================] - 2s 209ms/step - loss: 1.1597e-04 - val_loss: 0.0113\n",
            "Epoch 87/100\n",
            "12/12 [==============================] - 2s 206ms/step - loss: 1.0600e-04 - val_loss: 0.0112\n",
            "Epoch 88/100\n",
            "12/12 [==============================] - 2s 203ms/step - loss: 1.0894e-04 - val_loss: 0.0134\n",
            "Epoch 89/100\n",
            "12/12 [==============================] - 2s 203ms/step - loss: 9.9318e-05 - val_loss: 0.0140\n",
            "Epoch 90/100\n",
            "12/12 [==============================] - 3s 219ms/step - loss: 1.0281e-04 - val_loss: 0.0120\n",
            "Epoch 91/100\n",
            "12/12 [==============================] - 2s 203ms/step - loss: 1.1909e-04 - val_loss: 0.0144\n",
            "Epoch 92/100\n",
            "12/12 [==============================] - 2s 207ms/step - loss: 1.0634e-04 - val_loss: 0.0145\n",
            "Epoch 93/100\n",
            "12/12 [==============================] - 2s 204ms/step - loss: 1.0340e-04 - val_loss: 0.0133\n",
            "Epoch 94/100\n",
            "12/12 [==============================] - 2s 203ms/step - loss: 1.2437e-04 - val_loss: 0.0160\n",
            "Epoch 95/100\n",
            "12/12 [==============================] - 2s 203ms/step - loss: 1.1165e-04 - val_loss: 0.0113\n",
            "Epoch 96/100\n",
            "12/12 [==============================] - 2s 200ms/step - loss: 1.0040e-04 - val_loss: 0.0094\n",
            "Epoch 97/100\n",
            "12/12 [==============================] - 2s 202ms/step - loss: 1.0475e-04 - val_loss: 0.0125\n",
            "Epoch 98/100\n",
            "12/12 [==============================] - 2s 203ms/step - loss: 9.7635e-05 - val_loss: 0.0114\n",
            "Epoch 99/100\n",
            "12/12 [==============================] - 2s 209ms/step - loss: 9.4700e-05 - val_loss: 0.0121\n",
            "Epoch 100/100\n",
            "12/12 [==============================] - 2s 204ms/step - loss: 1.0262e-04 - val_loss: 0.0073\n"
          ],
          "name": "stdout"
        },
        {
          "output_type": "execute_result",
          "data": {
            "text/plain": [
              "<tensorflow.python.keras.callbacks.History at 0x7f499c2b0668>"
            ]
          },
          "metadata": {
            "tags": []
          },
          "execution_count": 46
        }
      ]
    },
    {
      "cell_type": "code",
      "metadata": {
        "id": "VeSHvh8TPGRv"
      },
      "source": [
        "train_predict = model.predict(x_train)\r\n",
        "test_predict = model.predict(x_test)"
      ],
      "execution_count": 47,
      "outputs": []
    },
    {
      "cell_type": "code",
      "metadata": {
        "id": "oKuWN_cHPgvn"
      },
      "source": [
        "train_predict = scaler.inverse_transform(train_predict)\r\n",
        "test_predict = scaler.inverse_transform(test_predict)"
      ],
      "execution_count": 48,
      "outputs": []
    },
    {
      "cell_type": "code",
      "metadata": {
        "colab": {
          "base_uri": "https://localhost:8080/"
        },
        "id": "35chu4CTPshr",
        "outputId": "0bb95116-c6d1-43a8-d1bc-cd79a241cd0a"
      },
      "source": [
        "from sklearn.metrics import mean_squared_error as mse\r\n",
        "print(\"Training Error\\n\")\r\n",
        "print(np.sqrt(mse(y_train,train_predict)))"
      ],
      "execution_count": 53,
      "outputs": [
        {
          "output_type": "stream",
          "text": [
            "Training Error\n",
            "\n",
            "165.37297432656868\n"
          ],
          "name": "stdout"
        }
      ]
    },
    {
      "cell_type": "code",
      "metadata": {
        "colab": {
          "base_uri": "https://localhost:8080/"
        },
        "id": "YNfiD-ilP-Qe",
        "outputId": "de073a7f-5f6b-47e2-d97b-766004d2a97c"
      },
      "source": [
        "print(\"Testing Error\\n\")\r\n",
        "print(np.sqrt(mse(y_test,test_predict)))"
      ],
      "execution_count": 54,
      "outputs": [
        {
          "output_type": "stream",
          "text": [
            "Testing Error\n",
            "\n",
            "256.35565691462284\n"
          ],
          "name": "stdout"
        }
      ]
    },
    {
      "cell_type": "code",
      "metadata": {
        "colab": {
          "base_uri": "https://localhost:8080/",
          "height": 282
        },
        "id": "M4VsyYZCQXg9",
        "outputId": "db624d86-fb22-4ba2-ced8-d6876fdae922"
      },
      "source": [
        "### Plot\r\n",
        "# Shift train predictions for plotting\r\n",
        "look_back = 100\r\n",
        "trainPredictPlot = np.empty_like(df1)\r\n",
        "trainPredictPlot[:,:] = np.nan\r\n",
        "trainPredictPlot[look_back:len(train_predict)+look_back, :] = train_predict\r\n",
        "\r\n",
        "# Shift test predictions for plotting\r\n",
        "testPredictPlot = np.empty_like(df1)\r\n",
        "testPredictPlot[:,:] = np.nan\r\n",
        "testPredictPlot[len(train_predict)+(look_back*2)+1:len(df1)-1, :] = test_predict\r\n",
        "\r\n",
        "# Plot baseline and predictions\r\n",
        "plt.plot(scaler.inverse_transform(df1))\r\n",
        "plt.plot(trainPredictPlot)\r\n",
        "plt.plot(testPredictPlot)"
      ],
      "execution_count": 60,
      "outputs": [
        {
          "output_type": "execute_result",
          "data": {
            "text/plain": [
              "[<matplotlib.lines.Line2D at 0x7f4997893ef0>]"
            ]
          },
          "metadata": {
            "tags": []
          },
          "execution_count": 60
        },
        {
          "output_type": "display_data",
          "data": {
            "image/png": "[encoded data removed]",
            "text/plain": [
              "<Figure size 432x288 with 1 Axes>"
            ]
          },
          "metadata": {
            "tags": [],
            "needs_background": "light"
          }
        }
      ]
    },
    {
      "cell_type": "markdown",
      "metadata": {
        "id": "y_IMcIOEXPqF"
      },
      "source": [
        "**Next 30 Days Prediction**"
      ]
    },
    {
      "cell_type": "code",
      "metadata": {
        "colab": {
          "base_uri": "https://localhost:8080/"
        },
        "id": "1C7DDM9VTf3b",
        "outputId": "55a6ec5b-eded-4416-da24-cf6384486e19"
      },
      "source": [
        "len(test)"
      ],
      "execution_count": 61,
      "outputs": [
        {
          "output_type": "execute_result",
          "data": {
            "text/plain": [
              "440"
            ]
          },
          "metadata": {
            "tags": []
          },
          "execution_count": 61
        }
      ]
    },
    {
      "cell_type": "code",
      "metadata": {
        "colab": {
          "base_uri": "https://localhost:8080/"
        },
        "id": "pQKpG5MWW51e",
        "outputId": "d963a8e1-04ac-4deb-e7f3-a524d352df3d"
      },
      "source": [
        "x_input = test[340:].reshape(1,-1)\r\n",
        "x_input.shape"
      ],
      "execution_count": 104,
      "outputs": [
        {
          "output_type": "execute_result",
          "data": {
            "text/plain": [
              "(1, 100)"
            ]
          },
          "metadata": {
            "tags": []
          },
          "execution_count": 104
        }
      ]
    },
    {
      "cell_type": "code",
      "metadata": {
        "id": "--KmA82OXtTE"
      },
      "source": [
        "temp_input = x_input[0].tolist()"
      ],
      "execution_count": 105,
      "outputs": []
    },
    {
      "cell_type": "code",
      "metadata": {
        "id": "sAtfpkOtXuuu"
      },
      "source": [
        "temp_input"
      ],
      "execution_count": null,
      "outputs": []
    },
    {
      "cell_type": "code",
      "metadata": {
        "colab": {
          "base_uri": "https://localhost:8080/"
        },
        "id": "crm25tJ8X7RH",
        "outputId": "c76b5947-ce58-48af-d71e-1d48af6586d0"
      },
      "source": [
        "n_steps = 100\r\n",
        "output = []\r\n",
        "i = 0\r\n",
        "while(i<30):\r\n",
        "  if (len(temp_input) > 100):\r\n",
        "    x_input = np.array(temp_input[1:])\r\n",
        "    print(\"{} day input {}\".format(i,x_input))\r\n",
        "    x_input = x_input.reshape(1,-1)\r\n",
        "    x_input = x_input.reshape((1, n_steps, 1))\r\n",
        "    yhat = model.predict(x_input, verbose=0)\r\n",
        "    print(\"{} day output {}\".format(i,yhat))\r\n",
        "    temp_input.extend(yhat[0].tolist())\r\n",
        "    temp_input = temp_input[1:]\r\n",
        "    output.extend(yhat.tolist())\r\n",
        "    i = i+1\r\n",
        "\r\n",
        "  else:\r\n",
        "    x_input = x_input.reshape((1, n_steps, 1))\r\n",
        "    yhat = model.predict(x_input, verbose=0)\r\n",
        "    print(yhat[0])\r\n",
        "    temp_input.extend(yhat[0].tolist())\r\n",
        "    output.extend(yhat.tolist())\r\n",
        "    i = i+1\r\n",
        "\r\n"
      ],
      "execution_count": 107,
      "outputs": [
        {
          "output_type": "stream",
          "text": [
            "[0.11651773]\n",
            "1 day input [0.07345761 0.07365003 0.05407096 0.06489477 0.0556825  0.05209862\n",
            " 0.06016837 0.06061335 0.0524113  0.04810583 0.03968731 0.04748046\n",
            " 0.05164161 0.04036079 0.04300661 0.0527721  0.05921828 0.05712568\n",
            " 0.06126278 0.06361996 0.05455201 0.06292243 0.05488876 0.05950692\n",
            " 0.05924233 0.06405292 0.08192423 0.07398677 0.07420325 0.07304871\n",
            " 0.06898376 0.06167168 0.06535177 0.06381239 0.06111846 0.0594107\n",
            " 0.05943476 0.06316296 0.05017438 0.06008419 0.044546   0.04432952\n",
            " 0.04834636 0.05919423 0.06900782 0.06819002 0.06248948 0.06164762\n",
            " 0.07011425 0.06944077 0.06956103 0.07206254 0.06987372 0.06660253\n",
            " 0.06806975 0.06494287 0.05654841 0.05972339 0.06179194 0.06313891\n",
            " 0.06905592 0.07788334 0.07874925 0.07841251 0.07675286 0.08036079\n",
            " 0.08187613 0.07562237 0.0791341  0.0771377  0.07562237 0.09029465\n",
            " 0.09012628 0.09226699 0.08734817 0.0911365  0.09991581 0.09770295\n",
            " 0.10013229 0.11148527 0.10710764 0.10434155 0.1018641  0.09397474\n",
            " 0.09782321 0.08721587 0.09760673 0.10032471 0.09294047 0.09250752\n",
            " 0.09753458 0.0927721  0.08851473 0.09017438 0.10027661 0.11191822\n",
            " 0.11720986 0.12647023 0.1270475  0.11651773]\n",
            "1 day output [[0.12158737]]\n",
            "2 day input [0.07365003 0.05407096 0.06489477 0.0556825  0.05209862 0.06016837\n",
            " 0.06061335 0.0524113  0.04810583 0.03968731 0.04748046 0.05164161\n",
            " 0.04036079 0.04300661 0.0527721  0.05921828 0.05712568 0.06126278\n",
            " 0.06361996 0.05455201 0.06292243 0.05488876 0.05950692 0.05924233\n",
            " 0.06405292 0.08192423 0.07398677 0.07420325 0.07304871 0.06898376\n",
            " 0.06167168 0.06535177 0.06381239 0.06111846 0.0594107  0.05943476\n",
            " 0.06316296 0.05017438 0.06008419 0.044546   0.04432952 0.04834636\n",
            " 0.05919423 0.06900782 0.06819002 0.06248948 0.06164762 0.07011425\n",
            " 0.06944077 0.06956103 0.07206254 0.06987372 0.06660253 0.06806975\n",
            " 0.06494287 0.05654841 0.05972339 0.06179194 0.06313891 0.06905592\n",
            " 0.07788334 0.07874925 0.07841251 0.07675286 0.08036079 0.08187613\n",
            " 0.07562237 0.0791341  0.0771377  0.07562237 0.09029465 0.09012628\n",
            " 0.09226699 0.08734817 0.0911365  0.09991581 0.09770295 0.10013229\n",
            " 0.11148527 0.10710764 0.10434155 0.1018641  0.09397474 0.09782321\n",
            " 0.08721587 0.09760673 0.10032471 0.09294047 0.09250752 0.09753458\n",
            " 0.0927721  0.08851473 0.09017438 0.10027661 0.11191822 0.11720986\n",
            " 0.12647023 0.1270475  0.11651773 0.12158737]\n",
            "2 day output [[0.12536602]]\n",
            "3 day input [0.05407096 0.06489477 0.0556825  0.05209862 0.06016837 0.06061335\n",
            " 0.0524113  0.04810583 0.03968731 0.04748046 0.05164161 0.04036079\n",
            " 0.04300661 0.0527721  0.05921828 0.05712568 0.06126278 0.06361996\n",
            " 0.05455201 0.06292243 0.05488876 0.05950692 0.05924233 0.06405292\n",
            " 0.08192423 0.07398677 0.07420325 0.07304871 0.06898376 0.06167168\n",
            " 0.06535177 0.06381239 0.06111846 0.0594107  0.05943476 0.06316296\n",
            " 0.05017438 0.06008419 0.044546   0.04432952 0.04834636 0.05919423\n",
            " 0.06900782 0.06819002 0.06248948 0.06164762 0.07011425 0.06944077\n",
            " 0.06956103 0.07206254 0.06987372 0.06660253 0.06806975 0.06494287\n",
            " 0.05654841 0.05972339 0.06179194 0.06313891 0.06905592 0.07788334\n",
            " 0.07874925 0.07841251 0.07675286 0.08036079 0.08187613 0.07562237\n",
            " 0.0791341  0.0771377  0.07562237 0.09029465 0.09012628 0.09226699\n",
            " 0.08734817 0.0911365  0.09991581 0.09770295 0.10013229 0.11148527\n",
            " 0.10710764 0.10434155 0.1018641  0.09397474 0.09782321 0.08721587\n",
            " 0.09760673 0.10032471 0.09294047 0.09250752 0.09753458 0.0927721\n",
            " 0.08851473 0.09017438 0.10027661 0.11191822 0.11720986 0.12647023\n",
            " 0.1270475  0.11651773 0.12158737 0.12536602]\n",
            "3 day output [[0.12812974]]\n",
            "4 day input [0.06489477 0.0556825  0.05209862 0.06016837 0.06061335 0.0524113\n",
            " 0.04810583 0.03968731 0.04748046 0.05164161 0.04036079 0.04300661\n",
            " 0.0527721  0.05921828 0.05712568 0.06126278 0.06361996 0.05455201\n",
            " 0.06292243 0.05488876 0.05950692 0.05924233 0.06405292 0.08192423\n",
            " 0.07398677 0.07420325 0.07304871 0.06898376 0.06167168 0.06535177\n",
            " 0.06381239 0.06111846 0.0594107  0.05943476 0.06316296 0.05017438\n",
            " 0.06008419 0.044546   0.04432952 0.04834636 0.05919423 0.06900782\n",
            " 0.06819002 0.06248948 0.06164762 0.07011425 0.06944077 0.06956103\n",
            " 0.07206254 0.06987372 0.06660253 0.06806975 0.06494287 0.05654841\n",
            " 0.05972339 0.06179194 0.06313891 0.06905592 0.07788334 0.07874925\n",
            " 0.07841251 0.07675286 0.08036079 0.08187613 0.07562237 0.0791341\n",
            " 0.0771377  0.07562237 0.09029465 0.09012628 0.09226699 0.08734817\n",
            " 0.0911365  0.09991581 0.09770295 0.10013229 0.11148527 0.10710764\n",
            " 0.10434155 0.1018641  0.09397474 0.09782321 0.08721587 0.09760673\n",
            " 0.10032471 0.09294047 0.09250752 0.09753458 0.0927721  0.08851473\n",
            " 0.09017438 0.10027661 0.11191822 0.11720986 0.12647023 0.1270475\n",
            " 0.11651773 0.12158737 0.12536602 0.12812974]\n",
            "4 day output [[0.13024642]]\n",
            "5 day input [0.0556825  0.05209862 0.06016837 0.06061335 0.0524113  0.04810583\n",
            " 0.03968731 0.04748046 0.05164161 0.04036079 0.04300661 0.0527721\n",
            " 0.05921828 0.05712568 0.06126278 0.06361996 0.05455201 0.06292243\n",
            " 0.05488876 0.05950692 0.05924233 0.06405292 0.08192423 0.07398677\n",
            " 0.07420325 0.07304871 0.06898376 0.06167168 0.06535177 0.06381239\n",
            " 0.06111846 0.0594107  0.05943476 0.06316296 0.05017438 0.06008419\n",
            " 0.044546   0.04432952 0.04834636 0.05919423 0.06900782 0.06819002\n",
            " 0.06248948 0.06164762 0.07011425 0.06944077 0.06956103 0.07206254\n",
            " 0.06987372 0.06660253 0.06806975 0.06494287 0.05654841 0.05972339\n",
            " 0.06179194 0.06313891 0.06905592 0.07788334 0.07874925 0.07841251\n",
            " 0.07675286 0.08036079 0.08187613 0.07562237 0.0791341  0.0771377\n",
            " 0.07562237 0.09029465 0.09012628 0.09226699 0.08734817 0.0911365\n",
            " 0.09991581 0.09770295 0.10013229 0.11148527 0.10710764 0.10434155\n",
            " 0.1018641  0.09397474 0.09782321 0.08721587 0.09760673 0.10032471\n",
            " 0.09294047 0.09250752 0.09753458 0.0927721  0.08851473 0.09017438\n",
            " 0.10027661 0.11191822 0.11720986 0.12647023 0.1270475  0.11651773\n",
            " 0.12158737 0.12536602 0.12812974 0.13024642]\n",
            "5 day output [[0.1320032]]\n",
            "6 day input [0.05209862 0.06016837 0.06061335 0.0524113  0.04810583 0.03968731\n",
            " 0.04748046 0.05164161 0.04036079 0.04300661 0.0527721  0.05921828\n",
            " 0.05712568 0.06126278 0.06361996 0.05455201 0.06292243 0.05488876\n",
            " 0.05950692 0.05924233 0.06405292 0.08192423 0.07398677 0.07420325\n",
            " 0.07304871 0.06898376 0.06167168 0.06535177 0.06381239 0.06111846\n",
            " 0.0594107  0.05943476 0.06316296 0.05017438 0.06008419 0.044546\n",
            " 0.04432952 0.04834636 0.05919423 0.06900782 0.06819002 0.06248948\n",
            " 0.06164762 0.07011425 0.06944077 0.06956103 0.07206254 0.06987372\n",
            " 0.06660253 0.06806975 0.06494287 0.05654841 0.05972339 0.06179194\n",
            " 0.06313891 0.06905592 0.07788334 0.07874925 0.07841251 0.07675286\n",
            " 0.08036079 0.08187613 0.07562237 0.0791341  0.0771377  0.07562237\n",
            " 0.09029465 0.09012628 0.09226699 0.08734817 0.0911365  0.09991581\n",
            " 0.09770295 0.10013229 0.11148527 0.10710764 0.10434155 0.1018641\n",
            " 0.09397474 0.09782321 0.08721587 0.09760673 0.10032471 0.09294047\n",
            " 0.09250752 0.09753458 0.0927721  0.08851473 0.09017438 0.10027661\n",
            " 0.11191822 0.11720986 0.12647023 0.1270475  0.11651773 0.12158737\n",
            " 0.12536602 0.12812974 0.13024642 0.1320032 ]\n",
            "6 day output [[0.13357922]]\n",
            "7 day input [0.06016837 0.06061335 0.0524113  0.04810583 0.03968731 0.04748046\n",
            " 0.05164161 0.04036079 0.04300661 0.0527721  0.05921828 0.05712568\n",
            " 0.06126278 0.06361996 0.05455201 0.06292243 0.05488876 0.05950692\n",
            " 0.05924233 0.06405292 0.08192423 0.07398677 0.07420325 0.07304871\n",
            " 0.06898376 0.06167168 0.06535177 0.06381239 0.06111846 0.0594107\n",
            " 0.05943476 0.06316296 0.05017438 0.06008419 0.044546   0.04432952\n",
            " 0.04834636 0.05919423 0.06900782 0.06819002 0.06248948 0.06164762\n",
            " 0.07011425 0.06944077 0.06956103 0.07206254 0.06987372 0.06660253\n",
            " 0.06806975 0.06494287 0.05654841 0.05972339 0.06179194 0.06313891\n",
            " 0.06905592 0.07788334 0.07874925 0.07841251 0.07675286 0.08036079\n",
            " 0.08187613 0.07562237 0.0791341  0.0771377  0.07562237 0.09029465\n",
            " 0.09012628 0.09226699 0.08734817 0.0911365  0.09991581 0.09770295\n",
            " 0.10013229 0.11148527 0.10710764 0.10434155 0.1018641  0.09397474\n",
            " 0.09782321 0.08721587 0.09760673 0.10032471 0.09294047 0.09250752\n",
            " 0.09753458 0.0927721  0.08851473 0.09017438 0.10027661 0.11191822\n",
            " 0.11720986 0.12647023 0.1270475  0.11651773 0.12158737 0.12536602\n",
            " 0.12812974 0.13024642 0.1320032  0.13357922]\n",
            "7 day output [[0.13507098]]\n",
            "8 day input [0.06061335 0.0524113  0.04810583 0.03968731 0.04748046 0.05164161\n",
            " 0.04036079 0.04300661 0.0527721  0.05921828 0.05712568 0.06126278\n",
            " 0.06361996 0.05455201 0.06292243 0.05488876 0.05950692 0.05924233\n",
            " 0.06405292 0.08192423 0.07398677 0.07420325 0.07304871 0.06898376\n",
            " 0.06167168 0.06535177 0.06381239 0.06111846 0.0594107  0.05943476\n",
            " 0.06316296 0.05017438 0.06008419 0.044546   0.04432952 0.04834636\n",
            " 0.05919423 0.06900782 0.06819002 0.06248948 0.06164762 0.07011425\n",
            " 0.06944077 0.06956103 0.07206254 0.06987372 0.06660253 0.06806975\n",
            " 0.06494287 0.05654841 0.05972339 0.06179194 0.06313891 0.06905592\n",
            " 0.07788334 0.07874925 0.07841251 0.07675286 0.08036079 0.08187613\n",
            " 0.07562237 0.0791341  0.0771377  0.07562237 0.09029465 0.09012628\n",
            " 0.09226699 0.08734817 0.0911365  0.09991581 0.09770295 0.10013229\n",
            " 0.11148527 0.10710764 0.10434155 0.1018641  0.09397474 0.09782321\n",
            " 0.08721587 0.09760673 0.10032471 0.09294047 0.09250752 0.09753458\n",
            " 0.0927721  0.08851473 0.09017438 0.10027661 0.11191822 0.11720986\n",
            " 0.12647023 0.1270475  0.11651773 0.12158737 0.12536602 0.12812974\n",
            " 0.13024642 0.1320032  0.13357922 0.13507098]\n",
            "8 day output [[0.1365258]]\n",
            "9 day input [0.0524113  0.04810583 0.03968731 0.04748046 0.05164161 0.04036079\n",
            " 0.04300661 0.0527721  0.05921828 0.05712568 0.06126278 0.06361996\n",
            " 0.05455201 0.06292243 0.05488876 0.05950692 0.05924233 0.06405292\n",
            " 0.08192423 0.07398677 0.07420325 0.07304871 0.06898376 0.06167168\n",
            " 0.06535177 0.06381239 0.06111846 0.0594107  0.05943476 0.06316296\n",
            " 0.05017438 0.06008419 0.044546   0.04432952 0.04834636 0.05919423\n",
            " 0.06900782 0.06819002 0.06248948 0.06164762 0.07011425 0.06944077\n",
            " 0.06956103 0.07206254 0.06987372 0.06660253 0.06806975 0.06494287\n",
            " 0.05654841 0.05972339 0.06179194 0.06313891 0.06905592 0.07788334\n",
            " 0.07874925 0.07841251 0.07675286 0.08036079 0.08187613 0.07562237\n",
            " 0.0791341  0.0771377  0.07562237 0.09029465 0.09012628 0.09226699\n",
            " 0.08734817 0.0911365  0.09991581 0.09770295 0.10013229 0.11148527\n",
            " 0.10710764 0.10434155 0.1018641  0.09397474 0.09782321 0.08721587\n",
            " 0.09760673 0.10032471 0.09294047 0.09250752 0.09753458 0.0927721\n",
            " 0.08851473 0.09017438 0.10027661 0.11191822 0.11720986 0.12647023\n",
            " 0.1270475  0.11651773 0.12158737 0.12536602 0.12812974 0.13024642\n",
            " 0.1320032  0.13357922 0.13507098 0.13652579]\n",
            "9 day output [[0.13796672]]\n",
            "10 day input [0.04810583 0.03968731 0.04748046 0.05164161 0.04036079 0.04300661\n",
            " 0.0527721  0.05921828 0.05712568 0.06126278 0.06361996 0.05455201\n",
            " 0.06292243 0.05488876 0.05950692 0.05924233 0.06405292 0.08192423\n",
            " 0.07398677 0.07420325 0.07304871 0.06898376 0.06167168 0.06535177\n",
            " 0.06381239 0.06111846 0.0594107  0.05943476 0.06316296 0.05017438\n",
            " 0.06008419 0.044546   0.04432952 0.04834636 0.05919423 0.06900782\n",
            " 0.06819002 0.06248948 0.06164762 0.07011425 0.06944077 0.06956103\n",
            " 0.07206254 0.06987372 0.06660253 0.06806975 0.06494287 0.05654841\n",
            " 0.05972339 0.06179194 0.06313891 0.06905592 0.07788334 0.07874925\n",
            " 0.07841251 0.07675286 0.08036079 0.08187613 0.07562237 0.0791341\n",
            " 0.0771377  0.07562237 0.09029465 0.09012628 0.09226699 0.08734817\n",
            " 0.0911365  0.09991581 0.09770295 0.10013229 0.11148527 0.10710764\n",
            " 0.10434155 0.1018641  0.09397474 0.09782321 0.08721587 0.09760673\n",
            " 0.10032471 0.09294047 0.09250752 0.09753458 0.0927721  0.08851473\n",
            " 0.09017438 0.10027661 0.11191822 0.11720986 0.12647023 0.1270475\n",
            " 0.11651773 0.12158737 0.12536602 0.12812974 0.13024642 0.1320032\n",
            " 0.13357922 0.13507098 0.13652579 0.13796672]\n",
            "10 day output [[0.13940711]]\n",
            "11 day input [0.03968731 0.04748046 0.05164161 0.04036079 0.04300661 0.0527721\n",
            " 0.05921828 0.05712568 0.06126278 0.06361996 0.05455201 0.06292243\n",
            " 0.05488876 0.05950692 0.05924233 0.06405292 0.08192423 0.07398677\n",
            " 0.07420325 0.07304871 0.06898376 0.06167168 0.06535177 0.06381239\n",
            " 0.06111846 0.0594107  0.05943476 0.06316296 0.05017438 0.06008419\n",
            " 0.044546   0.04432952 0.04834636 0.05919423 0.06900782 0.06819002\n",
            " 0.06248948 0.06164762 0.07011425 0.06944077 0.06956103 0.07206254\n",
            " 0.06987372 0.06660253 0.06806975 0.06494287 0.05654841 0.05972339\n",
            " 0.06179194 0.06313891 0.06905592 0.07788334 0.07874925 0.07841251\n",
            " 0.07675286 0.08036079 0.08187613 0.07562237 0.0791341  0.0771377\n",
            " 0.07562237 0.09029465 0.09012628 0.09226699 0.08734817 0.0911365\n",
            " 0.09991581 0.09770295 0.10013229 0.11148527 0.10710764 0.10434155\n",
            " 0.1018641  0.09397474 0.09782321 0.08721587 0.09760673 0.10032471\n",
            " 0.09294047 0.09250752 0.09753458 0.0927721  0.08851473 0.09017438\n",
            " 0.10027661 0.11191822 0.11720986 0.12647023 0.1270475  0.11651773\n",
            " 0.12158737 0.12536602 0.12812974 0.13024642 0.1320032  0.13357922\n",
            " 0.13507098 0.13652579 0.13796672 0.13940711]\n",
            "11 day output [[0.14085694]]\n",
            "12 day input [0.04748046 0.05164161 0.04036079 0.04300661 0.0527721  0.05921828\n",
            " 0.05712568 0.06126278 0.06361996 0.05455201 0.06292243 0.05488876\n",
            " 0.05950692 0.05924233 0.06405292 0.08192423 0.07398677 0.07420325\n",
            " 0.07304871 0.06898376 0.06167168 0.06535177 0.06381239 0.06111846\n",
            " 0.0594107  0.05943476 0.06316296 0.05017438 0.06008419 0.044546\n",
            " 0.04432952 0.04834636 0.05919423 0.06900782 0.06819002 0.06248948\n",
            " 0.06164762 0.07011425 0.06944077 0.06956103 0.07206254 0.06987372\n",
            " 0.06660253 0.06806975 0.06494287 0.05654841 0.05972339 0.06179194\n",
            " 0.06313891 0.06905592 0.07788334 0.07874925 0.07841251 0.07675286\n",
            " 0.08036079 0.08187613 0.07562237 0.0791341  0.0771377  0.07562237\n",
            " 0.09029465 0.09012628 0.09226699 0.08734817 0.0911365  0.09991581\n",
            " 0.09770295 0.10013229 0.11148527 0.10710764 0.10434155 0.1018641\n",
            " 0.09397474 0.09782321 0.08721587 0.09760673 0.10032471 0.09294047\n",
            " 0.09250752 0.09753458 0.0927721  0.08851473 0.09017438 0.10027661\n",
            " 0.11191822 0.11720986 0.12647023 0.1270475  0.11651773 0.12158737\n",
            " 0.12536602 0.12812974 0.13024642 0.1320032  0.13357922 0.13507098\n",
            " 0.13652579 0.13796672 0.13940711 0.14085694]\n",
            "12 day output [[0.14232516]]\n",
            "13 day input [0.05164161 0.04036079 0.04300661 0.0527721  0.05921828 0.05712568\n",
            " 0.06126278 0.06361996 0.05455201 0.06292243 0.05488876 0.05950692\n",
            " 0.05924233 0.06405292 0.08192423 0.07398677 0.07420325 0.07304871\n",
            " 0.06898376 0.06167168 0.06535177 0.06381239 0.06111846 0.0594107\n",
            " 0.05943476 0.06316296 0.05017438 0.06008419 0.044546   0.04432952\n",
            " 0.04834636 0.05919423 0.06900782 0.06819002 0.06248948 0.06164762\n",
            " 0.07011425 0.06944077 0.06956103 0.07206254 0.06987372 0.06660253\n",
            " 0.06806975 0.06494287 0.05654841 0.05972339 0.06179194 0.06313891\n",
            " 0.06905592 0.07788334 0.07874925 0.07841251 0.07675286 0.08036079\n",
            " 0.08187613 0.07562237 0.0791341  0.0771377  0.07562237 0.09029465\n",
            " 0.09012628 0.09226699 0.08734817 0.0911365  0.09991581 0.09770295\n",
            " 0.10013229 0.11148527 0.10710764 0.10434155 0.1018641  0.09397474\n",
            " 0.09782321 0.08721587 0.09760673 0.10032471 0.09294047 0.09250752\n",
            " 0.09753458 0.0927721  0.08851473 0.09017438 0.10027661 0.11191822\n",
            " 0.11720986 0.12647023 0.1270475  0.11651773 0.12158737 0.12536602\n",
            " 0.12812974 0.13024642 0.1320032  0.13357922 0.13507098 0.13652579\n",
            " 0.13796672 0.13940711 0.14085694 0.14232516]\n",
            "13 day output [[0.14381991]]\n",
            "14 day input [0.04036079 0.04300661 0.0527721  0.05921828 0.05712568 0.06126278\n",
            " 0.06361996 0.05455201 0.06292243 0.05488876 0.05950692 0.05924233\n",
            " 0.06405292 0.08192423 0.07398677 0.07420325 0.07304871 0.06898376\n",
            " 0.06167168 0.06535177 0.06381239 0.06111846 0.0594107  0.05943476\n",
            " 0.06316296 0.05017438 0.06008419 0.044546   0.04432952 0.04834636\n",
            " 0.05919423 0.06900782 0.06819002 0.06248948 0.06164762 0.07011425\n",
            " 0.06944077 0.06956103 0.07206254 0.06987372 0.06660253 0.06806975\n",
            " 0.06494287 0.05654841 0.05972339 0.06179194 0.06313891 0.06905592\n",
            " 0.07788334 0.07874925 0.07841251 0.07675286 0.08036079 0.08187613\n",
            " 0.07562237 0.0791341  0.0771377  0.07562237 0.09029465 0.09012628\n",
            " 0.09226699 0.08734817 0.0911365  0.09991581 0.09770295 0.10013229\n",
            " 0.11148527 0.10710764 0.10434155 0.1018641  0.09397474 0.09782321\n",
            " 0.08721587 0.09760673 0.10032471 0.09294047 0.09250752 0.09753458\n",
            " 0.0927721  0.08851473 0.09017438 0.10027661 0.11191822 0.11720986\n",
            " 0.12647023 0.1270475  0.11651773 0.12158737 0.12536602 0.12812974\n",
            " 0.13024642 0.1320032  0.13357922 0.13507098 0.13652579 0.13796672\n",
            " 0.13940711 0.14085694 0.14232516 0.14381991]\n",
            "14 day output [[0.14534804]]\n",
            "15 day input [0.04300661 0.0527721  0.05921828 0.05712568 0.06126278 0.06361996\n",
            " 0.05455201 0.06292243 0.05488876 0.05950692 0.05924233 0.06405292\n",
            " 0.08192423 0.07398677 0.07420325 0.07304871 0.06898376 0.06167168\n",
            " 0.06535177 0.06381239 0.06111846 0.0594107  0.05943476 0.06316296\n",
            " 0.05017438 0.06008419 0.044546   0.04432952 0.04834636 0.05919423\n",
            " 0.06900782 0.06819002 0.06248948 0.06164762 0.07011425 0.06944077\n",
            " 0.06956103 0.07206254 0.06987372 0.06660253 0.06806975 0.06494287\n",
            " 0.05654841 0.05972339 0.06179194 0.06313891 0.06905592 0.07788334\n",
            " 0.07874925 0.07841251 0.07675286 0.08036079 0.08187613 0.07562237\n",
            " 0.0791341  0.0771377  0.07562237 0.09029465 0.09012628 0.09226699\n",
            " 0.08734817 0.0911365  0.09991581 0.09770295 0.10013229 0.11148527\n",
            " 0.10710764 0.10434155 0.1018641  0.09397474 0.09782321 0.08721587\n",
            " 0.09760673 0.10032471 0.09294047 0.09250752 0.09753458 0.0927721\n",
            " 0.08851473 0.09017438 0.10027661 0.11191822 0.11720986 0.12647023\n",
            " 0.1270475  0.11651773 0.12158737 0.12536602 0.12812974 0.13024642\n",
            " 0.1320032  0.13357922 0.13507098 0.13652579 0.13796672 0.13940711\n",
            " 0.14085694 0.14232516 0.14381991 0.14534804]\n",
            "15 day output [[0.1469148]]\n",
            "16 day input [0.0527721  0.05921828 0.05712568 0.06126278 0.06361996 0.05455201\n",
            " 0.06292243 0.05488876 0.05950692 0.05924233 0.06405292 0.08192423\n",
            " 0.07398677 0.07420325 0.07304871 0.06898376 0.06167168 0.06535177\n",
            " 0.06381239 0.06111846 0.0594107  0.05943476 0.06316296 0.05017438\n",
            " 0.06008419 0.044546   0.04432952 0.04834636 0.05919423 0.06900782\n",
            " 0.06819002 0.06248948 0.06164762 0.07011425 0.06944077 0.06956103\n",
            " 0.07206254 0.06987372 0.06660253 0.06806975 0.06494287 0.05654841\n",
            " 0.05972339 0.06179194 0.06313891 0.06905592 0.07788334 0.07874925\n",
            " 0.07841251 0.07675286 0.08036079 0.08187613 0.07562237 0.0791341\n",
            " 0.0771377  0.07562237 0.09029465 0.09012628 0.09226699 0.08734817\n",
            " 0.0911365  0.09991581 0.09770295 0.10013229 0.11148527 0.10710764\n",
            " 0.10434155 0.1018641  0.09397474 0.09782321 0.08721587 0.09760673\n",
            " 0.10032471 0.09294047 0.09250752 0.09753458 0.0927721  0.08851473\n",
            " 0.09017438 0.10027661 0.11191822 0.11720986 0.12647023 0.1270475\n",
            " 0.11651773 0.12158737 0.12536602 0.12812974 0.13024642 0.1320032\n",
            " 0.13357922 0.13507098 0.13652579 0.13796672 0.13940711 0.14085694\n",
            " 0.14232516 0.14381991 0.14534804 0.1469148 ]\n",
            "16 day output [[0.14852364]]\n",
            "17 day input [0.05921828 0.05712568 0.06126278 0.06361996 0.05455201 0.06292243\n",
            " 0.05488876 0.05950692 0.05924233 0.06405292 0.08192423 0.07398677\n",
            " 0.07420325 0.07304871 0.06898376 0.06167168 0.06535177 0.06381239\n",
            " 0.06111846 0.0594107  0.05943476 0.06316296 0.05017438 0.06008419\n",
            " 0.044546   0.04432952 0.04834636 0.05919423 0.06900782 0.06819002\n",
            " 0.06248948 0.06164762 0.07011425 0.06944077 0.06956103 0.07206254\n",
            " 0.06987372 0.06660253 0.06806975 0.06494287 0.05654841 0.05972339\n",
            " 0.06179194 0.06313891 0.06905592 0.07788334 0.07874925 0.07841251\n",
            " 0.07675286 0.08036079 0.08187613 0.07562237 0.0791341  0.0771377\n",
            " 0.07562237 0.09029465 0.09012628 0.09226699 0.08734817 0.0911365\n",
            " 0.09991581 0.09770295 0.10013229 0.11148527 0.10710764 0.10434155\n",
            " 0.1018641  0.09397474 0.09782321 0.08721587 0.09760673 0.10032471\n",
            " 0.09294047 0.09250752 0.09753458 0.0927721  0.08851473 0.09017438\n",
            " 0.10027661 0.11191822 0.11720986 0.12647023 0.1270475  0.11651773\n",
            " 0.12158737 0.12536602 0.12812974 0.13024642 0.1320032  0.13357922\n",
            " 0.13507098 0.13652579 0.13796672 0.13940711 0.14085694 0.14232516\n",
            " 0.14381991 0.14534804 0.1469148  0.14852364]\n",
            "17 day output [[0.1501766]]\n",
            "18 day input [0.05712568 0.06126278 0.06361996 0.05455201 0.06292243 0.05488876\n",
            " 0.05950692 0.05924233 0.06405292 0.08192423 0.07398677 0.07420325\n",
            " 0.07304871 0.06898376 0.06167168 0.06535177 0.06381239 0.06111846\n",
            " 0.0594107  0.05943476 0.06316296 0.05017438 0.06008419 0.044546\n",
            " 0.04432952 0.04834636 0.05919423 0.06900782 0.06819002 0.06248948\n",
            " 0.06164762 0.07011425 0.06944077 0.06956103 0.07206254 0.06987372\n",
            " 0.06660253 0.06806975 0.06494287 0.05654841 0.05972339 0.06179194\n",
            " 0.06313891 0.06905592 0.07788334 0.07874925 0.07841251 0.07675286\n",
            " 0.08036079 0.08187613 0.07562237 0.0791341  0.0771377  0.07562237\n",
            " 0.09029465 0.09012628 0.09226699 0.08734817 0.0911365  0.09991581\n",
            " 0.09770295 0.10013229 0.11148527 0.10710764 0.10434155 0.1018641\n",
            " 0.09397474 0.09782321 0.08721587 0.09760673 0.10032471 0.09294047\n",
            " 0.09250752 0.09753458 0.0927721  0.08851473 0.09017438 0.10027661\n",
            " 0.11191822 0.11720986 0.12647023 0.1270475  0.11651773 0.12158737\n",
            " 0.12536602 0.12812974 0.13024642 0.1320032  0.13357922 0.13507098\n",
            " 0.13652579 0.13796672 0.13940711 0.14085694 0.14232516 0.14381991\n",
            " 0.14534804 0.1469148  0.14852364 0.1501766 ]\n",
            "18 day output [[0.15187413]]\n",
            "19 day input [0.06126278 0.06361996 0.05455201 0.06292243 0.05488876 0.05950692\n",
            " 0.05924233 0.06405292 0.08192423 0.07398677 0.07420325 0.07304871\n",
            " 0.06898376 0.06167168 0.06535177 0.06381239 0.06111846 0.0594107\n",
            " 0.05943476 0.06316296 0.05017438 0.06008419 0.044546   0.04432952\n",
            " 0.04834636 0.05919423 0.06900782 0.06819002 0.06248948 0.06164762\n",
            " 0.07011425 0.06944077 0.06956103 0.07206254 0.06987372 0.06660253\n",
            " 0.06806975 0.06494287 0.05654841 0.05972339 0.06179194 0.06313891\n",
            " 0.06905592 0.07788334 0.07874925 0.07841251 0.07675286 0.08036079\n",
            " 0.08187613 0.07562237 0.0791341  0.0771377  0.07562237 0.09029465\n",
            " 0.09012628 0.09226699 0.08734817 0.0911365  0.09991581 0.09770295\n",
            " 0.10013229 0.11148527 0.10710764 0.10434155 0.1018641  0.09397474\n",
            " 0.09782321 0.08721587 0.09760673 0.10032471 0.09294047 0.09250752\n",
            " 0.09753458 0.0927721  0.08851473 0.09017438 0.10027661 0.11191822\n",
            " 0.11720986 0.12647023 0.1270475  0.11651773 0.12158737 0.12536602\n",
            " 0.12812974 0.13024642 0.1320032  0.13357922 0.13507098 0.13652579\n",
            " 0.13796672 0.13940711 0.14085694 0.14232516 0.14381991 0.14534804\n",
            " 0.1469148  0.14852364 0.1501766  0.15187413]\n",
            "19 day output [[0.15361565]]\n",
            "20 day input [0.06361996 0.05455201 0.06292243 0.05488876 0.05950692 0.05924233\n",
            " 0.06405292 0.08192423 0.07398677 0.07420325 0.07304871 0.06898376\n",
            " 0.06167168 0.06535177 0.06381239 0.06111846 0.0594107  0.05943476\n",
            " 0.06316296 0.05017438 0.06008419 0.044546   0.04432952 0.04834636\n",
            " 0.05919423 0.06900782 0.06819002 0.06248948 0.06164762 0.07011425\n",
            " 0.06944077 0.06956103 0.07206254 0.06987372 0.06660253 0.06806975\n",
            " 0.06494287 0.05654841 0.05972339 0.06179194 0.06313891 0.06905592\n",
            " 0.07788334 0.07874925 0.07841251 0.07675286 0.08036079 0.08187613\n",
            " 0.07562237 0.0791341  0.0771377  0.07562237 0.09029465 0.09012628\n",
            " 0.09226699 0.08734817 0.0911365  0.09991581 0.09770295 0.10013229\n",
            " 0.11148527 0.10710764 0.10434155 0.1018641  0.09397474 0.09782321\n",
            " 0.08721587 0.09760673 0.10032471 0.09294047 0.09250752 0.09753458\n",
            " 0.0927721  0.08851473 0.09017438 0.10027661 0.11191822 0.11720986\n",
            " 0.12647023 0.1270475  0.11651773 0.12158737 0.12536602 0.12812974\n",
            " 0.13024642 0.1320032  0.13357922 0.13507098 0.13652579 0.13796672\n",
            " 0.13940711 0.14085694 0.14232516 0.14381991 0.14534804 0.1469148\n",
            " 0.14852364 0.1501766  0.15187413 0.15361565]\n",
            "20 day output [[0.15539962]]\n",
            "21 day input [0.05455201 0.06292243 0.05488876 0.05950692 0.05924233 0.06405292\n",
            " 0.08192423 0.07398677 0.07420325 0.07304871 0.06898376 0.06167168\n",
            " 0.06535177 0.06381239 0.06111846 0.0594107  0.05943476 0.06316296\n",
            " 0.05017438 0.06008419 0.044546   0.04432952 0.04834636 0.05919423\n",
            " 0.06900782 0.06819002 0.06248948 0.06164762 0.07011425 0.06944077\n",
            " 0.06956103 0.07206254 0.06987372 0.06660253 0.06806975 0.06494287\n",
            " 0.05654841 0.05972339 0.06179194 0.06313891 0.06905592 0.07788334\n",
            " 0.07874925 0.07841251 0.07675286 0.08036079 0.08187613 0.07562237\n",
            " 0.0791341  0.0771377  0.07562237 0.09029465 0.09012628 0.09226699\n",
            " 0.08734817 0.0911365  0.09991581 0.09770295 0.10013229 0.11148527\n",
            " 0.10710764 0.10434155 0.1018641  0.09397474 0.09782321 0.08721587\n",
            " 0.09760673 0.10032471 0.09294047 0.09250752 0.09753458 0.0927721\n",
            " 0.08851473 0.09017438 0.10027661 0.11191822 0.11720986 0.12647023\n",
            " 0.1270475  0.11651773 0.12158737 0.12536602 0.12812974 0.13024642\n",
            " 0.1320032  0.13357922 0.13507098 0.13652579 0.13796672 0.13940711\n",
            " 0.14085694 0.14232516 0.14381991 0.14534804 0.1469148  0.14852364\n",
            " 0.1501766  0.15187413 0.15361565 0.15539962]\n",
            "21 day output [[0.15722403]]\n",
            "22 day input [0.06292243 0.05488876 0.05950692 0.05924233 0.06405292 0.08192423\n",
            " 0.07398677 0.07420325 0.07304871 0.06898376 0.06167168 0.06535177\n",
            " 0.06381239 0.06111846 0.0594107  0.05943476 0.06316296 0.05017438\n",
            " 0.06008419 0.044546   0.04432952 0.04834636 0.05919423 0.06900782\n",
            " 0.06819002 0.06248948 0.06164762 0.07011425 0.06944077 0.06956103\n",
            " 0.07206254 0.06987372 0.06660253 0.06806975 0.06494287 0.05654841\n",
            " 0.05972339 0.06179194 0.06313891 0.06905592 0.07788334 0.07874925\n",
            " 0.07841251 0.07675286 0.08036079 0.08187613 0.07562237 0.0791341\n",
            " 0.0771377  0.07562237 0.09029465 0.09012628 0.09226699 0.08734817\n",
            " 0.0911365  0.09991581 0.09770295 0.10013229 0.11148527 0.10710764\n",
            " 0.10434155 0.1018641  0.09397474 0.09782321 0.08721587 0.09760673\n",
            " 0.10032471 0.09294047 0.09250752 0.09753458 0.0927721  0.08851473\n",
            " 0.09017438 0.10027661 0.11191822 0.11720986 0.12647023 0.1270475\n",
            " 0.11651773 0.12158737 0.12536602 0.12812974 0.13024642 0.1320032\n",
            " 0.13357922 0.13507098 0.13652579 0.13796672 0.13940711 0.14085694\n",
            " 0.14232516 0.14381991 0.14534804 0.1469148  0.14852364 0.1501766\n",
            " 0.15187413 0.15361565 0.15539962 0.15722403]\n",
            "22 day output [[0.15908644]]\n",
            "23 day input [0.05488876 0.05950692 0.05924233 0.06405292 0.08192423 0.07398677\n",
            " 0.07420325 0.07304871 0.06898376 0.06167168 0.06535177 0.06381239\n",
            " 0.06111846 0.0594107  0.05943476 0.06316296 0.05017438 0.06008419\n",
            " 0.044546   0.04432952 0.04834636 0.05919423 0.06900782 0.06819002\n",
            " 0.06248948 0.06164762 0.07011425 0.06944077 0.06956103 0.07206254\n",
            " 0.06987372 0.06660253 0.06806975 0.06494287 0.05654841 0.05972339\n",
            " 0.06179194 0.06313891 0.06905592 0.07788334 0.07874925 0.07841251\n",
            " 0.07675286 0.08036079 0.08187613 0.07562237 0.0791341  0.0771377\n",
            " 0.07562237 0.09029465 0.09012628 0.09226699 0.08734817 0.0911365\n",
            " 0.09991581 0.09770295 0.10013229 0.11148527 0.10710764 0.10434155\n",
            " 0.1018641  0.09397474 0.09782321 0.08721587 0.09760673 0.10032471\n",
            " 0.09294047 0.09250752 0.09753458 0.0927721  0.08851473 0.09017438\n",
            " 0.10027661 0.11191822 0.11720986 0.12647023 0.1270475  0.11651773\n",
            " 0.12158737 0.12536602 0.12812974 0.13024642 0.1320032  0.13357922\n",
            " 0.13507098 0.13652579 0.13796672 0.13940711 0.14085694 0.14232516\n",
            " 0.14381991 0.14534804 0.1469148  0.14852364 0.1501766  0.15187413\n",
            " 0.15361565 0.15539962 0.15722403 0.15908644]\n",
            "23 day output [[0.1609842]]\n",
            "24 day input [0.05950692 0.05924233 0.06405292 0.08192423 0.07398677 0.07420325\n",
            " 0.07304871 0.06898376 0.06167168 0.06535177 0.06381239 0.06111846\n",
            " 0.0594107  0.05943476 0.06316296 0.05017438 0.06008419 0.044546\n",
            " 0.04432952 0.04834636 0.05919423 0.06900782 0.06819002 0.06248948\n",
            " 0.06164762 0.07011425 0.06944077 0.06956103 0.07206254 0.06987372\n",
            " 0.06660253 0.06806975 0.06494287 0.05654841 0.05972339 0.06179194\n",
            " 0.06313891 0.06905592 0.07788334 0.07874925 0.07841251 0.07675286\n",
            " 0.08036079 0.08187613 0.07562237 0.0791341  0.0771377  0.07562237\n",
            " 0.09029465 0.09012628 0.09226699 0.08734817 0.0911365  0.09991581\n",
            " 0.09770295 0.10013229 0.11148527 0.10710764 0.10434155 0.1018641\n",
            " 0.09397474 0.09782321 0.08721587 0.09760673 0.10032471 0.09294047\n",
            " 0.09250752 0.09753458 0.0927721  0.08851473 0.09017438 0.10027661\n",
            " 0.11191822 0.11720986 0.12647023 0.1270475  0.11651773 0.12158737\n",
            " 0.12536602 0.12812974 0.13024642 0.1320032  0.13357922 0.13507098\n",
            " 0.13652579 0.13796672 0.13940711 0.14085694 0.14232516 0.14381991\n",
            " 0.14534804 0.1469148  0.14852364 0.1501766  0.15187413 0.15361565\n",
            " 0.15539962 0.15722403 0.15908644 0.1609842 ]\n",
            "24 day output [[0.16291471]]\n",
            "25 day input [0.05924233 0.06405292 0.08192423 0.07398677 0.07420325 0.07304871\n",
            " 0.06898376 0.06167168 0.06535177 0.06381239 0.06111846 0.0594107\n",
            " 0.05943476 0.06316296 0.05017438 0.06008419 0.044546   0.04432952\n",
            " 0.04834636 0.05919423 0.06900782 0.06819002 0.06248948 0.06164762\n",
            " 0.07011425 0.06944077 0.06956103 0.07206254 0.06987372 0.06660253\n",
            " 0.06806975 0.06494287 0.05654841 0.05972339 0.06179194 0.06313891\n",
            " 0.06905592 0.07788334 0.07874925 0.07841251 0.07675286 0.08036079\n",
            " 0.08187613 0.07562237 0.0791341  0.0771377  0.07562237 0.09029465\n",
            " 0.09012628 0.09226699 0.08734817 0.0911365  0.09991581 0.09770295\n",
            " 0.10013229 0.11148527 0.10710764 0.10434155 0.1018641  0.09397474\n",
            " 0.09782321 0.08721587 0.09760673 0.10032471 0.09294047 0.09250752\n",
            " 0.09753458 0.0927721  0.08851473 0.09017438 0.10027661 0.11191822\n",
            " 0.11720986 0.12647023 0.1270475  0.11651773 0.12158737 0.12536602\n",
            " 0.12812974 0.13024642 0.1320032  0.13357922 0.13507098 0.13652579\n",
            " 0.13796672 0.13940711 0.14085694 0.14232516 0.14381991 0.14534804\n",
            " 0.1469148  0.14852364 0.1501766  0.15187413 0.15361565 0.15539962\n",
            " 0.15722403 0.15908644 0.1609842  0.16291471]\n",
            "25 day output [[0.1648755]]\n",
            "26 day input [0.06405292 0.08192423 0.07398677 0.07420325 0.07304871 0.06898376\n",
            " 0.06167168 0.06535177 0.06381239 0.06111846 0.0594107  0.05943476\n",
            " 0.06316296 0.05017438 0.06008419 0.044546   0.04432952 0.04834636\n",
            " 0.05919423 0.06900782 0.06819002 0.06248948 0.06164762 0.07011425\n",
            " 0.06944077 0.06956103 0.07206254 0.06987372 0.06660253 0.06806975\n",
            " 0.06494287 0.05654841 0.05972339 0.06179194 0.06313891 0.06905592\n",
            " 0.07788334 0.07874925 0.07841251 0.07675286 0.08036079 0.08187613\n",
            " 0.07562237 0.0791341  0.0771377  0.07562237 0.09029465 0.09012628\n",
            " 0.09226699 0.08734817 0.0911365  0.09991581 0.09770295 0.10013229\n",
            " 0.11148527 0.10710764 0.10434155 0.1018641  0.09397474 0.09782321\n",
            " 0.08721587 0.09760673 0.10032471 0.09294047 0.09250752 0.09753458\n",
            " 0.0927721  0.08851473 0.09017438 0.10027661 0.11191822 0.11720986\n",
            " 0.12647023 0.1270475  0.11651773 0.12158737 0.12536602 0.12812974\n",
            " 0.13024642 0.1320032  0.13357922 0.13507098 0.13652579 0.13796672\n",
            " 0.13940711 0.14085694 0.14232516 0.14381991 0.14534804 0.1469148\n",
            " 0.14852364 0.1501766  0.15187413 0.15361565 0.15539962 0.15722403\n",
            " 0.15908644 0.1609842  0.16291471 0.16487551]\n",
            "26 day output [[0.1668643]]\n",
            "27 day input [0.08192423 0.07398677 0.07420325 0.07304871 0.06898376 0.06167168\n",
            " 0.06535177 0.06381239 0.06111846 0.0594107  0.05943476 0.06316296\n",
            " 0.05017438 0.06008419 0.044546   0.04432952 0.04834636 0.05919423\n",
            " 0.06900782 0.06819002 0.06248948 0.06164762 0.07011425 0.06944077\n",
            " 0.06956103 0.07206254 0.06987372 0.06660253 0.06806975 0.06494287\n",
            " 0.05654841 0.05972339 0.06179194 0.06313891 0.06905592 0.07788334\n",
            " 0.07874925 0.07841251 0.07675286 0.08036079 0.08187613 0.07562237\n",
            " 0.0791341  0.0771377  0.07562237 0.09029465 0.09012628 0.09226699\n",
            " 0.08734817 0.0911365  0.09991581 0.09770295 0.10013229 0.11148527\n",
            " 0.10710764 0.10434155 0.1018641  0.09397474 0.09782321 0.08721587\n",
            " 0.09760673 0.10032471 0.09294047 0.09250752 0.09753458 0.0927721\n",
            " 0.08851473 0.09017438 0.10027661 0.11191822 0.11720986 0.12647023\n",
            " 0.1270475  0.11651773 0.12158737 0.12536602 0.12812974 0.13024642\n",
            " 0.1320032  0.13357922 0.13507098 0.13652579 0.13796672 0.13940711\n",
            " 0.14085694 0.14232516 0.14381991 0.14534804 0.1469148  0.14852364\n",
            " 0.1501766  0.15187413 0.15361565 0.15539962 0.15722403 0.15908644\n",
            " 0.1609842  0.16291471 0.16487551 0.16686431]\n",
            "27 day output [[0.168879]]\n",
            "28 day input [0.07398677 0.07420325 0.07304871 0.06898376 0.06167168 0.06535177\n",
            " 0.06381239 0.06111846 0.0594107  0.05943476 0.06316296 0.05017438\n",
            " 0.06008419 0.044546   0.04432952 0.04834636 0.05919423 0.06900782\n",
            " 0.06819002 0.06248948 0.06164762 0.07011425 0.06944077 0.06956103\n",
            " 0.07206254 0.06987372 0.06660253 0.06806975 0.06494287 0.05654841\n",
            " 0.05972339 0.06179194 0.06313891 0.06905592 0.07788334 0.07874925\n",
            " 0.07841251 0.07675286 0.08036079 0.08187613 0.07562237 0.0791341\n",
            " 0.0771377  0.07562237 0.09029465 0.09012628 0.09226699 0.08734817\n",
            " 0.0911365  0.09991581 0.09770295 0.10013229 0.11148527 0.10710764\n",
            " 0.10434155 0.1018641  0.09397474 0.09782321 0.08721587 0.09760673\n",
            " 0.10032471 0.09294047 0.09250752 0.09753458 0.0927721  0.08851473\n",
            " 0.09017438 0.10027661 0.11191822 0.11720986 0.12647023 0.1270475\n",
            " 0.11651773 0.12158737 0.12536602 0.12812974 0.13024642 0.1320032\n",
            " 0.13357922 0.13507098 0.13652579 0.13796672 0.13940711 0.14085694\n",
            " 0.14232516 0.14381991 0.14534804 0.1469148  0.14852364 0.1501766\n",
            " 0.15187413 0.15361565 0.15539962 0.15722403 0.15908644 0.1609842\n",
            " 0.16291471 0.16487551 0.16686431 0.168879  ]\n",
            "28 day output [[0.17091803]]\n",
            "29 day input [0.07420325 0.07304871 0.06898376 0.06167168 0.06535177 0.06381239\n",
            " 0.06111846 0.0594107  0.05943476 0.06316296 0.05017438 0.06008419\n",
            " 0.044546   0.04432952 0.04834636 0.05919423 0.06900782 0.06819002\n",
            " 0.06248948 0.06164762 0.07011425 0.06944077 0.06956103 0.07206254\n",
            " 0.06987372 0.06660253 0.06806975 0.06494287 0.05654841 0.05972339\n",
            " 0.06179194 0.06313891 0.06905592 0.07788334 0.07874925 0.07841251\n",
            " 0.07675286 0.08036079 0.08187613 0.07562237 0.0791341  0.0771377\n",
            " 0.07562237 0.09029465 0.09012628 0.09226699 0.08734817 0.0911365\n",
            " 0.09991581 0.09770295 0.10013229 0.11148527 0.10710764 0.10434155\n",
            " 0.1018641  0.09397474 0.09782321 0.08721587 0.09760673 0.10032471\n",
            " 0.09294047 0.09250752 0.09753458 0.0927721  0.08851473 0.09017438\n",
            " 0.10027661 0.11191822 0.11720986 0.12647023 0.1270475  0.11651773\n",
            " 0.12158737 0.12536602 0.12812974 0.13024642 0.1320032  0.13357922\n",
            " 0.13507098 0.13652579 0.13796672 0.13940711 0.14085694 0.14232516\n",
            " 0.14381991 0.14534804 0.1469148  0.14852364 0.1501766  0.15187413\n",
            " 0.15361565 0.15539962 0.15722403 0.15908644 0.1609842  0.16291471\n",
            " 0.16487551 0.16686431 0.168879   0.17091803]\n",
            "29 day output [[0.17298004]]\n"
          ],
          "name": "stdout"
        }
      ]
    },
    {
      "cell_type": "code",
      "metadata": {
        "id": "Avb4-N-waW-3"
      },
      "source": [
        "day_new = np.arange(1,101)\r\n",
        "day_pred = np.arange(101,131)"
      ],
      "execution_count": 111,
      "outputs": []
    },
    {
      "cell_type": "code",
      "metadata": {
        "id": "kJ5QT_JHbHbO"
      },
      "source": [
        " df3 = df1.tolist()\r\n",
        " df3.extend(output)"
      ],
      "execution_count": 110,
      "outputs": []
    },
    {
      "cell_type": "code",
      "metadata": {
        "colab": {
          "base_uri": "https://localhost:8080/"
        },
        "id": "0IeGTvIceRSI",
        "outputId": "cf87487f-0682-4ef7-944d-7dfcd0125d8f"
      },
      "source": [
        "len(df1)"
      ],
      "execution_count": 112,
      "outputs": [
        {
          "output_type": "execute_result",
          "data": {
            "text/plain": [
              "1257"
            ]
          },
          "metadata": {
            "tags": []
          },
          "execution_count": 112
        }
      ]
    },
    {
      "cell_type": "code",
      "metadata": {
        "colab": {
          "base_uri": "https://localhost:8080/",
          "height": 282
        },
        "id": "m1RwBqO9d276",
        "outputId": "bf3add09-fb1a-4dba-a404-c16be406134c"
      },
      "source": [
        "plt.plot(day_new, scaler.inverse_transform(df1[1157:]))\r\n",
        "plt.plot(day_pred, scaler.inverse_transform(output))"
      ],
      "execution_count": 113,
      "outputs": [
        {
          "output_type": "execute_result",
          "data": {
            "text/plain": [
              "[<matplotlib.lines.Line2D at 0x7f49977ce5f8>]"
            ]
          },
          "metadata": {
            "tags": []
          },
          "execution_count": 113
        },
        {
          "output_type": "display_data",
          "data": {
            "image/png": "[encoded data removed]",
            "text/plain": [
              "<Figure size 432x288 with 1 Axes>"
            ]
          },
          "metadata": {
            "tags": [],
            "needs_background": "light"
          }
        }
      ]
    },
    {
      "cell_type": "code",
      "metadata": {
        "colab": {
          "base_uri": "https://localhost:8080/",
          "height": 282
        },
        "id": "Ak1nDI7VeUhq",
        "outputId": "1494016c-f1e7-4069-e21a-f013bd16665f"
      },
      "source": [
        "plt.plot(df3)"
      ],
      "execution_count": 114,
      "outputs": [
        {
          "output_type": "execute_result",
          "data": {
            "text/plain": [
              "[<matplotlib.lines.Line2D at 0x7f4997717ef0>]"
            ]
          },
          "metadata": {
            "tags": []
          },
          "execution_count": 114
        },
        {
          "output_type": "display_data",
          "data": {
            "image/png": "[encoded data removed]",
            "text/plain": [
              "<Figure size 432x288 with 1 Axes>"
            ]
          },
          "metadata": {
            "tags": [],
            "needs_background": "light"
          }
        }
      ]
    },
    {
      "cell_type": "code",
      "metadata": {
        "id": "wAlBJG0Qedbd"
      },
      "source": [
        ""
      ],
      "execution_count": null,
      "outputs": []
    }
  ]
}